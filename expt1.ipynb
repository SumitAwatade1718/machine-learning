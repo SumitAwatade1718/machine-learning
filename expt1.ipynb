{
  "nbformat": 4,
  "nbformat_minor": 0,
  "metadata": {
    "colab": {
      "provenance": [],
      "authorship_tag": "ABX9TyPiGZ4E+AOE+mlC7FTOsMTX",
      "include_colab_link": true
    },
    "kernelspec": {
      "name": "python3",
      "display_name": "Python 3"
    },
    "language_info": {
      "name": "python"
    }
  },
  "cells": [
    {
      "cell_type": "markdown",
      "metadata": {
        "id": "view-in-github",
        "colab_type": "text"
      },
      "source": [
        "<a href=\"https://colab.research.google.com/github/SumitAwatade1718/machine-learning/blob/main/expt1.ipynb\" target=\"_parent\"><img src=\"https://colab.research.google.com/assets/colab-badge.svg\" alt=\"Open In Colab\"/></a>"
      ]
    },
    {
      "cell_type": "code",
      "execution_count": 1,
      "metadata": {
        "colab": {
          "base_uri": "https://localhost:8080/"
        },
        "id": "NDTqvEkcajAJ",
        "outputId": "9b5c5446-9fc2-4d67-c468-614dd9baef61"
      },
      "outputs": [
        {
          "output_type": "stream",
          "name": "stdout",
          "text": [
            "enter the radius of circle23\n",
            "1661.06\n"
          ]
        }
      ],
      "source": [
        "s=int(input(\"enter the radius of circle\"))\n",
        "area=3.14*s*s\n",
        "print(area)"
      ]
    }
  ]
}